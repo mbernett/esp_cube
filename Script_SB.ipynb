{
 "cells": [
  {
   "cell_type": "code",
   "execution_count": 216,
   "metadata": {},
   "outputs": [],
   "source": [
    "import numpy as np\n",
    "import os\n",
    "import datetime\n",
    "import time\n",
    "#import argparse\n",
    "\n",
    "\n",
    "%matplotlib inline \n",
    "import matplotlib.pyplot as plt\n"
   ]
  },
  {
   "cell_type": "code",
   "execution_count": null,
   "metadata": {},
   "outputs": [],
   "source": [
    "#Backup\n",
    "#parser = argparse.ArgumentParser()\n",
    "#parser.add_argument(\"-l\", \"--lato\", help=\"Lato della Box\",type=int)\n",
    "#parser.add_argument(\"-p\", \"--points\", help=\"Number of Points\",type=int)\n",
    "#parser.add_argument(\"-o\", \"--output\", help=\"Output\")\n",
    "#args = parser.parse_args()\n",
    "#lato_box=args.lato\n",
    "#npoints=args.points"
   ]
  },
  {
   "cell_type": "code",
   "execution_count": null,
   "metadata": {},
   "outputs": [],
   "source": [
    "bohr=0.529177249 # bohr to angstrom"
   ]
  },
  {
   "cell_type": "code",
   "execution_count": null,
   "metadata": {},
   "outputs": [],
   "source": [
    "input_file=input(\"Please insert a PDB file: \")\n",
    "lato_box=int(input(\"Please insert box side: \"))\n",
    "npoints=int(input(\"Please decleare how many points you want to consider: \"))\n",
    "output=input(\"Output's name: \")"
   ]
  },
  {
   "cell_type": "code",
   "execution_count": null,
   "metadata": {},
   "outputs": [],
   "source": [
    "spacing=((lato_box*bohr)-(-lato_box*bohr))/9/bohr # spacing"
   ]
  },
  {
   "cell_type": "code",
   "execution_count": null,
   "metadata": {},
   "outputs": [],
   "source": [
    "class Atoms:\n",
    "    def __init__(self,x,y,z,charge):\n",
    "        self.x=x\n",
    "        self.y=y\n",
    "        self.z=z\n",
    "        self.charge=charge"
   ]
  },
  {
   "cell_type": "code",
   "execution_count": 4,
   "metadata": {},
   "outputs": [],
   "source": [
    "with open('test_one.pdb') as file:\n",
    "    atoms = []\n",
    "    for line in file:\n",
    "        fields = line.strip().split()\n",
    "        if fields[1]=='ATOM':\n",
    "            x=float(fields[5])\n",
    "            y=float(fields[6])\n",
    "            z=float(fields[7])\n",
    "            charge=float(fields[8])\n",
    "            atoms.append(Atoms(x,y,z,charge))\n",
    "        else:\n",
    "            pass"
   ]
  },
  {
   "cell_type": "code",
   "execution_count": null,
   "metadata": {},
   "outputs": [],
   "source": [
    "with open(input_file) as file:\n",
    "    atoms = []\n",
    "    for line in file:\n",
    "        fields = line.strip().split()\n",
    "        x=float(fields[5])\n",
    "        y=float(fields[6])\n",
    "        z=float(fields[7])\n",
    "        charge=float(fields[8])\n",
    "        atoms.append(Atoms(x,y,z,charge))"
   ]
  },
  {
   "cell_type": "code",
   "execution_count": null,
   "metadata": {},
   "outputs": [],
   "source": [
    "X = np.linspace(-(lato_box)*bohr,lato_box*bohr,npoints) # min, max, npoints\n",
    "Y = np.linspace(-(lato_box)*bohr,lato_box*bohr,npoints)\n",
    "Z = np.linspace(-(lato_box)*bohr,lato_box*bohr,npoints)\n"
   ]
  },
  {
   "cell_type": "code",
   "execution_count": null,
   "metadata": {},
   "outputs": [],
   "source": [
    "xx, yy, zz = np.meshgrid(X,Y,Z)"
   ]
  },
  {
   "cell_type": "code",
   "execution_count": null,
   "metadata": {},
   "outputs": [],
   "source": [
    "iterator=0\n",
    "for i in atoms:\n",
    "    if iterator==0:\n",
    "        a=i.charge/np.sqrt((xx.flatten()-i.x)**2+(yy.flatten()-i.y)**2+(zz.flatten()-i.y)**2)\n",
    "        iterator=+1\n",
    "    else:\n",
    "        a=a+i.charge/np.sqrt((xx.flatten()-i.x)**2+(yy.flatten()-i.y)**2+(zz.flatten()-i.y)**2)\n",
    "    "
   ]
  },
  {
   "cell_type": "code",
   "execution_count": null,
   "metadata": {},
   "outputs": [],
   "source": [
    "fmt='  %3.4e' *npoints\n",
    "fmt"
   ]
  },
  {
   "cell_type": "code",
   "execution_count": null,
   "metadata": {},
   "outputs": [],
   "source": [
    "spacing=format(spacing, '.5f')\n",
    "lato_box=format(lato_box, '.5f')\n",
    "# header: needs to be improved to print stuff consistently with the input\n",
    "header=\"\"\" Opt job potenital=scf\n",
    " Electrostatic potential from Total SCF Density\n",
    "    {}  -{}   -{}   -{}\n",
    "   10    {}     0.00000     0.00000\n",
    "   10    0.00000     {}     0.00000\n",
    "   10    0.00000     0.00000     {}\n",
    "    0    0.00000     0.00000     0.00000     0.00000\"\"\".format(len(atoms),lato_box,lato_box,lato_box,spacing,spacing,spacing)"
   ]
  },
  {
   "cell_type": "code",
   "execution_count": null,
   "metadata": {},
   "outputs": [],
   "source": [
    "fmt2='\\n'.join(fmt[i:i+42] for i in range (0,len(fmt),42))"
   ]
  },
  {
   "cell_type": "code",
   "execution_count": null,
   "metadata": {},
   "outputs": [],
   "source": [
    "np.savetxt('{}'.format(output),a.reshape(100,-1),fmt=fmt2,header=header,comments='')\n"
   ]
  }
 ],
 "metadata": {
  "kernelspec": {
   "display_name": "Python 3 (ipykernel)",
   "language": "python",
   "name": "python3"
  },
  "language_info": {
   "codemirror_mode": {
    "name": "ipython",
    "version": 3
   },
   "file_extension": ".py",
   "mimetype": "text/x-python",
   "name": "python",
   "nbconvert_exporter": "python",
   "pygments_lexer": "ipython3",
   "version": "3.9.5"
  }
 },
 "nbformat": 4,
 "nbformat_minor": 4
}
