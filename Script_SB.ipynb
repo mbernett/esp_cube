{
 "cells": [
  {
   "cell_type": "code",
   "execution_count": 1,
   "metadata": {},
   "outputs": [],
   "source": [
    "import numpy as np\n",
    "import os\n",
    "import datetime\n",
    "import time\n",
    "#import argparse\n",
    "\n",
    "\n",
    "%matplotlib inline \n",
    "import matplotlib.pyplot as plt\n"
   ]
  },
  {
   "cell_type": "code",
   "execution_count": 2,
   "metadata": {},
   "outputs": [
    {
     "data": {
      "text/plain": [
       "'C:\\\\Users\\\\stefa\\\\Desktop\\\\esp_cube-main'"
      ]
     },
     "execution_count": 2,
     "metadata": {},
     "output_type": "execute_result"
    }
   ],
   "source": [
    "pwd"
   ]
  },
  {
   "cell_type": "code",
   "execution_count": 3,
   "metadata": {},
   "outputs": [],
   "source": [
    "#Backup\n",
    "#parser = argparse.ArgumentParser()\n",
    "#parser.add_argument(\"-l\", \"--lato\", help=\"Lato della Box\",type=int)\n",
    "#parser.add_argument(\"-p\", \"--points\", help=\"Number of Points\",type=int)\n",
    "#parser.add_argument(\"-o\", \"--output\", help=\"Output\")\n",
    "#args = parser.parse_args()\n",
    "#lato_box=args.lato\n",
    "#npoints=args.points"
   ]
  },
  {
   "cell_type": "code",
   "execution_count": 4,
   "metadata": {},
   "outputs": [],
   "source": [
    "bohr=0.529177249 # bohr to angstrom"
   ]
  },
  {
   "cell_type": "code",
   "execution_count": 5,
   "metadata": {},
   "outputs": [
    {
     "name": "stdout",
     "output_type": "stream",
     "text": [
      "Please insert a PDB file: test_9.pdb\n",
      "Please insert box side: 20\n",
      "Please decleare how many points you want to consider: 20\n",
      "Output's name: prova_9.cube\n"
     ]
    }
   ],
   "source": [
    "input_file=input(\"Please insert a PDB file: \")\n",
    "lato_box=int(input(\"Please insert box side: \"))\n",
    "npoints=int(input(\"Please decleare how many points you want to consider: \"))\n",
    "output=input(\"Output's name: \")"
   ]
  },
  {
   "cell_type": "code",
   "execution_count": 6,
   "metadata": {},
   "outputs": [],
   "source": [
    "spacing=((lato_box*bohr)-(-lato_box*bohr))/9/bohr # spacing"
   ]
  },
  {
   "cell_type": "code",
   "execution_count": 7,
   "metadata": {},
   "outputs": [],
   "source": [
    "class Atoms:\n",
    "    def __init__(self,x,y,z,charge):\n",
    "        self.x=x\n",
    "        self.y=y\n",
    "        self.z=z\n",
    "        self.charge=charge"
   ]
  },
  {
   "cell_type": "code",
   "execution_count": 8,
   "metadata": {},
   "outputs": [],
   "source": [
    "with open(input_file) as file:\n",
    "    atoms = []\n",
    "    for line in file:\n",
    "        fields = line.strip().split()\n",
    "        if fields[0]=='ATOM':\n",
    "            x=float(fields[5])\n",
    "            y=float(fields[6])\n",
    "            z=float(fields[7])\n",
    "            charge=float(fields[8])\n",
    "            atoms.append(Atoms(x,y,z,charge))\n",
    "        else:\n",
    "            pass"
   ]
  },
  {
   "cell_type": "code",
   "execution_count": null,
   "metadata": {},
   "outputs": [],
   "source": []
  },
  {
   "cell_type": "code",
   "execution_count": 11,
   "metadata": {},
   "outputs": [],
   "source": [
    "X = np.linspace(-(lato_box)*bohr,lato_box*bohr,npoints) # min, max, npoints\n",
    "Y = np.linspace(-(lato_box)*bohr,lato_box*bohr,npoints)\n",
    "Z = np.linspace(-(lato_box)*bohr,lato_box*bohr,npoints)\n"
   ]
  },
  {
   "cell_type": "code",
   "execution_count": 12,
   "metadata": {},
   "outputs": [],
   "source": [
    "xx, yy, zz = np.meshgrid(X,Y,Z)"
   ]
  },
  {
   "cell_type": "code",
   "execution_count": 13,
   "metadata": {},
   "outputs": [],
   "source": [
    "iterator=0\n",
    "for i in atoms:\n",
    "    if iterator==0:\n",
    "        a=i.charge/np.sqrt((xx.flatten()-i.x)**2+(yy.flatten()-i.y)**2+(zz.flatten()-i.y)**2)\n",
    "        iterator=+1\n",
    "    else:\n",
    "        a=a+i.charge/np.sqrt((xx.flatten()-i.x)**2+(yy.flatten()-i.y)**2+(zz.flatten()-i.y)**2)\n",
    "    "
   ]
  },
  {
   "cell_type": "code",
   "execution_count": null,
   "metadata": {},
   "outputs": [],
   "source": []
  },
  {
   "cell_type": "code",
   "execution_count": 14,
   "metadata": {},
   "outputs": [],
   "source": [
    "a=a.reshape(100,-1)"
   ]
  },
  {
   "cell_type": "code",
   "execution_count": 15,
   "metadata": {},
   "outputs": [],
   "source": [
    "a=a.reshape(-1,npoints)"
   ]
  },
  {
   "cell_type": "code",
   "execution_count": 16,
   "metadata": {},
   "outputs": [
    {
     "data": {
      "text/plain": [
       "array(['  %3.4e', '  %3.4e', '  %3.4e', '  %3.4e', '  %3.4e', '  %3.4e',\n",
       "       '  %3.4e', '  %3.4e', '  %3.4e', '  %3.4e', '  %3.4e', '  %3.4e',\n",
       "       '  %3.4e', '  %3.4e', '  %3.4e', '  %3.4e', '  %3.4e', '  %3.4e',\n",
       "       '  %3.4e', '  %3.4e'], dtype='<U7')"
      ]
     },
     "execution_count": 16,
     "metadata": {},
     "output_type": "execute_result"
    }
   ],
   "source": [
    "fmt=np.array(['  %3.4e'] *npoints)\n",
    "fmt"
   ]
  },
  {
   "cell_type": "code",
   "execution_count": 17,
   "metadata": {},
   "outputs": [
    {
     "name": "stdout",
     "output_type": "stream",
     "text": [
      "  %3.4e  %3.4e  %3.4e  %3.4e  %3.4e  %3.4e\n",
      "  %3.4e  %3.4e  %3.4e  %3.4e  %3.4e  %3.4e\n",
      "  %3.4e  %3.4e  %3.4e  %3.4e  %3.4e  %3.4e\n",
      "  %3.4e  %3.4e\n"
     ]
    }
   ],
   "source": [
    "fmt2=\"\"\n",
    "iterator=1\n",
    "for i in fmt:\n",
    "    fmt2=fmt2+str(i)\n",
    "    if iterator % 6 == 0:\n",
    "        fmt2=fmt2+str('\\n')\n",
    "    iterator=iterator+1\n",
    "print(fmt2)\n"
   ]
  },
  {
   "cell_type": "code",
   "execution_count": null,
   "metadata": {},
   "outputs": [],
   "source": []
  },
  {
   "cell_type": "code",
   "execution_count": 18,
   "metadata": {},
   "outputs": [],
   "source": [
    "spacing=format(spacing, '.5f')\n",
    "lato_box=format(lato_box, '.5f')"
   ]
  },
  {
   "cell_type": "code",
   "execution_count": 19,
   "metadata": {},
   "outputs": [],
   "source": [
    "header=\"\"\" Opt job potenital=scf\n",
    "Electrostatic potential from Total SCF Density\n",
    "    {}  -{}   -{}   -{}\n",
    "   10    {}     0.00000     0.00000\n",
    "   10    0.00000     {}     0.00000\n",
    "   10    0.00000     0.00000     {}\"\"\".format(len(atoms),lato_box,lato_box,lato_box,spacing,spacing,spacing)\n",
    "for i in atoms:\n",
    "    primo=format(i.x/bohr, '.5f')\n",
    "    secondo=format(i.y/bohr, '.5f')\n",
    "    terzo=format(i.z/bohr, '.5f')\n",
    "    header=header+\"\\n    0    0.00000     {}     {}    {}\".format(primo,secondo,terzo)\n"
   ]
  },
  {
   "cell_type": "code",
   "execution_count": 20,
   "metadata": {},
   "outputs": [],
   "source": [
    "np.savetxt('{}'.format(output),a,fmt=fmt2,header=header,comments='')\n"
   ]
  },
  {
   "cell_type": "code",
   "execution_count": null,
   "metadata": {},
   "outputs": [],
   "source": []
  }
 ],
 "metadata": {
  "kernelspec": {
   "display_name": "Python 3",
   "language": "python",
   "name": "python3"
  },
  "language_info": {
   "codemirror_mode": {
    "name": "ipython",
    "version": 3
   },
   "file_extension": ".py",
   "mimetype": "text/x-python",
   "name": "python",
   "nbconvert_exporter": "python",
   "pygments_lexer": "ipython3",
   "version": "3.8.8"
  }
 },
 "nbformat": 4,
 "nbformat_minor": 4
}
